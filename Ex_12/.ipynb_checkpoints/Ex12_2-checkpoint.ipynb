{
 "cells": [
  {
   "cell_type": "markdown",
   "metadata": {},
   "source": [
    "## Ex 12.2 - Riconoscimento di immagini tramite Convolutional Neural Networks"
   ]
  },
  {
   "cell_type": "markdown",
   "metadata": {},
   "source": [
    "L'obiettivo di questo esercizio è la creazione di Convolutional Neural Networks (CNN) per il riconoscimento di immagini 28x28 pixel in scala di grigi di cifre scritte a mano (database MNIST). Le CNN sono tipologie di reti neurali particolarmente adatte alla classificazione di immagini poichè sfruttano due proprietà di quest'ultime: simmetria traslazionale e località. \n",
    "\n",
    "\n",
    "I dati di input sono tensori del tipo (larghezza immagine)x(lunghezza immagine)x(profondità immagine), dove per larghezza/lunghezza dell'immagine si intende il numero di pixel per ciascuna delle 2 dimensioni e per profondità dell'immagine si intende il numero di byte usato per indicare il colore di un pixel. Nel caso di immagini in scala di grigi (256 sfumature) la profondità di immagine è pari a 1 byte.\n",
    "\n",
    "Le CNN sono caratterizzate da due tipologie di layer:\n",
    "- layer di convoluzione: esegue la convoluzione dei dati di input grazie ad una serie di filtri localizzati spazialmente che si \"muovono\" lungo l'immagine prendendo in ingresso una piccola porzione di quest'ultima.\n",
    "- pooling layer: esegue un'operazione di coarse-graining dell'immagine di input che riduce la dimensione dell'output mantenendo inalterate le proprietà di invarianza traslazionale e località.\n",
    "\n",
    "Tipicamente, una CNN si realizza alternando layer di convoluzione e layer di pooling, cui in genere seguono un layer fully connected - necessario a convertire l'immagine in un vettore (Flatten layer) - e un layer avente tanti neuroni quanti sono i possibili output (in questo caso 10 con funzione di attivazione soft-max per la classificazione).\n",
    "\n",
    "È stata realizzata la seguente rete:\n",
    "\n",
    "- input layer Conv2D: filtro 5x5, stride = 1 (il filtro si sposta di 1 pixel alla volta), 10 filtri, attivazione ReLu\n",
    "- MaxPool layer: filtro 2x2, stride = 1,padding = valid (l'input viene ridotto)\n",
    "- coppia Conv2D + MaxPool con gli stessi parametri\n",
    "- layer Flatten \n",
    "- layer Dense con 160 neuroni e attivazione ReLu\n",
    "- layer Dense con 10 neuroni e attivazione SoftMax.\n",
    "\n",
    "La rete è stata allenata con il metodo di ottimizzazione Adadelta."
   ]
  },
  {
   "cell_type": "code",
   "execution_count": 2,
   "metadata": {},
   "outputs": [],
   "source": [
    "import numpy as np\n",
    "import matplotlib.pyplot as plt\n",
    "\n",
    "import tensorflow as tf\n",
    "from tensorflow import keras\n",
    "from tensorflow.keras.models import Sequential\n",
    "from tensorflow.keras.layers import Dense, Activation, Dropout, Flatten, Conv2D, MaxPooling2D\n",
    "from tensorflow.keras.optimizers import SGD, Adagrad, Adadelta\n",
    "\n",
    "from tensorflow.keras.datasets import mnist"
   ]
  },
  {
   "cell_type": "code",
   "execution_count": 6,
   "metadata": {},
   "outputs": [],
   "source": [
    "# input image dimensions\n",
    "img_rows, img_cols = 28, 28 # number of pixels \n",
    "# output\n",
    "num_classes = 10 # 10 digits\n",
    "\n",
    "# the data, split between train and test sets\n",
    "(X_train, Y_train), (X_test, Y_test) = mnist.load_data()\n",
    "\n",
    "# reshape data, depending on Keras backend\n",
    "X_train = X_train.reshape(X_train.shape[0], img_rows, img_cols, 1)\n",
    "X_test = X_test.reshape(X_test.shape[0], img_rows, img_cols, 1)\n",
    "input_shape = (img_rows, img_cols, 1)\n",
    "\n",
    "# cast floats to single precesion\n",
    "X_train = X_train.astype('float32')\n",
    "X_test = X_test.astype('float32')\n",
    "\n",
    "# rescale data in interval [0,1]\n",
    "X_train /= 255\n",
    "X_test /= 255\n",
    "\n",
    "# convert class vectors to binary class matrices, e.g. for use with categorical_crossentropy\n",
    "Y_train = keras.utils.to_categorical(Y_train, num_classes)\n",
    "Y_test = keras.utils.to_categorical(Y_test, num_classes)"
   ]
  },
  {
   "cell_type": "code",
   "execution_count": 7,
   "metadata": {},
   "outputs": [],
   "source": [
    "def create_CNN():\n",
    "    # instantiate model\n",
    "    model = Sequential()\n",
    "    # add first convolutional layer with 10 filters (dimensionality of output space)\n",
    "    model.add(Conv2D(10, kernel_size=(5, 5),\n",
    "                     activation='relu',\n",
    "                     input_shape=input_shape))\n",
    "    #\n",
    "    # ADD HERE SOME OTHER LAYERS AT YOUR WILL, FOR EXAMPLE SOME: Dropout, 2D pooling, 2D convolutional etc. ... \n",
    "    # remember to move towards a standard flat layer in the final part of your DNN,\n",
    "    # and that we need a soft-max layer with num_classes=10 possible outputs\n",
    "    #\n",
    "    \n",
    "    # Adding 1 MaxPool layer with no stride and valid padding\n",
    "    # 24x24 --> 12x12\n",
    "    model.add(MaxPooling2D((2, 2),None, 'valid'))\n",
    "    # Adding another convolutional layer with same parameters as before\n",
    "    # 12x12 --> 8x8\n",
    "    model.add(Conv2D(10, kernel_size=(5, 5),activation='relu'))\n",
    "    # Another MaxPool layer 8x8 --> 4x4\n",
    "    model.add(MaxPooling2D((2, 2),None, 'valid'))\n",
    "    # Flatten the shape 4x4x1 --> 16x1\n",
    "    model.add(Flatten())\n",
    "    # Fully connected layer with 160 neurons\n",
    "    model.add(Dense(160, activation = 'relu'))\n",
    "    # Adding some Dropout to prevent overfitting\n",
    "    model.add(Dropout(0.3))\n",
    "    # Final layer with 10 outputs and softmax classification\n",
    "    model.add(Dense(10, activation = 'softmax'))\n",
    "        \n",
    "    \n",
    "    # compile the model\n",
    "    model.compile(loss=keras.losses.categorical_crossentropy,\n",
    "                  optimizer=keras.optimizers.Adadelta(learning_rate=1.0, rho=0.95),\n",
    "                  metrics=['accuracy'])\n",
    "    return model"
   ]
  },
  {
   "cell_type": "code",
   "execution_count": 8,
   "metadata": {},
   "outputs": [],
   "source": [
    "# training parameters\n",
    "batch_size = 32\n",
    "epochs = 5\n",
    "\n",
    "# create the deep conv net\n",
    "model_CNN=create_CNN()"
   ]
  },
  {
   "cell_type": "code",
   "execution_count": 9,
   "metadata": {},
   "outputs": [
    {
     "name": "stdout",
     "output_type": "stream",
     "text": [
      "Model: \"sequential\"\n",
      "_________________________________________________________________\n",
      "Layer (type)                 Output Shape              Param #   \n",
      "=================================================================\n",
      "conv2d (Conv2D)              (None, 24, 24, 10)        260       \n",
      "_________________________________________________________________\n",
      "max_pooling2d (MaxPooling2D) (None, 12, 12, 10)        0         \n",
      "_________________________________________________________________\n",
      "conv2d_1 (Conv2D)            (None, 8, 8, 10)          2510      \n",
      "_________________________________________________________________\n",
      "max_pooling2d_1 (MaxPooling2 (None, 4, 4, 10)          0         \n",
      "_________________________________________________________________\n",
      "flatten (Flatten)            (None, 160)               0         \n",
      "_________________________________________________________________\n",
      "dense (Dense)                (None, 160)               25760     \n",
      "_________________________________________________________________\n",
      "dropout (Dropout)            (None, 160)               0         \n",
      "_________________________________________________________________\n",
      "dense_1 (Dense)              (None, 10)                1610      \n",
      "=================================================================\n",
      "Total params: 30,140\n",
      "Trainable params: 30,140\n",
      "Non-trainable params: 0\n",
      "_________________________________________________________________\n"
     ]
    }
   ],
   "source": [
    "# model summary\n",
    "model_CNN.summary()"
   ]
  },
  {
   "cell_type": "code",
   "execution_count": 10,
   "metadata": {},
   "outputs": [
    {
     "name": "stdout",
     "output_type": "stream",
     "text": [
      "Train on 60000 samples, validate on 10000 samples\n",
      "Epoch 1/5\n",
      "60000/60000 [==============================] - 113s 2ms/sample - loss: 0.1949 - accuracy: 0.9392 - val_loss: 0.0597 - val_accuracy: 0.9808\n",
      "Epoch 2/5\n",
      "60000/60000 [==============================] - 105s 2ms/sample - loss: 0.0743 - accuracy: 0.9772 - val_loss: 0.0460 - val_accuracy: 0.9849\n",
      "Epoch 3/5\n",
      "60000/60000 [==============================] - 107s 2ms/sample - loss: 0.0578 - accuracy: 0.9818 - val_loss: 0.0353 - val_accuracy: 0.9884\n",
      "Epoch 4/5\n",
      "60000/60000 [==============================] - 108s 2ms/sample - loss: 0.0490 - accuracy: 0.9851 - val_loss: 0.0315 - val_accuracy: 0.9898\n",
      "Epoch 5/5\n",
      "60000/60000 [==============================] - 111s 2ms/sample - loss: 0.0439 - accuracy: 0.9868 - val_loss: 0.0308 - val_accuracy: 0.9899\n"
     ]
    }
   ],
   "source": [
    "# train CNN\n",
    "history = model_CNN.fit(X_train, Y_train,\n",
    "          batch_size=batch_size,\n",
    "          epochs=epochs,\n",
    "          verbose=1,\n",
    "          validation_data=(X_test, Y_test))"
   ]
  },
  {
   "cell_type": "code",
   "execution_count": 12,
   "metadata": {},
   "outputs": [
    {
     "name": "stdout",
     "output_type": "stream",
     "text": [
      "\n",
      "Test loss: 0.03075776388894301\n",
      "Test accuracy: 0.9899\n"
     ]
    }
   ],
   "source": [
    "# evaluate model\n",
    "score = model_CNN.evaluate(X_test, Y_test, verbose=0)\n",
    "\n",
    "# print performance\n",
    "print()\n",
    "print('Test loss:', score[0])\n",
    "print('Test accuracy:', score[1])"
   ]
  },
  {
   "cell_type": "markdown",
   "metadata": {},
   "source": [
    "Le performance della CNN sono migliori rispetto a quelle delle DNN create ed allenate nell'esercizio precedente, nonostante quest'ultime abbiano un numero molto maggiore di parametri ($355110$ contro i $30140$ della CNN). \n",
    "\n",
    "DNN (es. 12.1) allenata con Adadelta:\n",
    "- Test loss: 0.07\n",
    "- Test accuracy: 0.98\n",
    "\n",
    "CNN allenata con Adadelta:\n",
    "- Test loss: 0.03\n",
    "- Test accuracy: 0.99"
   ]
  },
  {
   "cell_type": "code",
   "execution_count": 13,
   "metadata": {},
   "outputs": [
    {
     "data": {
      "image/png": "[encoded data removed]",
      "text/plain": [
       "<Figure size 936x432 with 2 Axes>"
      ]
     },
     "metadata": {
      "needs_background": "light"
     },
     "output_type": "display_data"
    }
   ],
   "source": [
    "# training history\n",
    "f = plt.figure(figsize=(13,6))\n",
    "\n",
    "# summarize history for accuracy\n",
    "f.add_subplot(1,2,1)\n",
    "plt.plot(history.history['accuracy'])\n",
    "plt.plot(history.history['val_accuracy'])\n",
    "plt.ylabel('model accuracy')\n",
    "plt.xlabel('epoch')\n",
    "plt.legend(['train', 'test'], loc='best')\n",
    "    \n",
    "# summarize history for loss\n",
    "f.add_subplot(1,2,2)\n",
    "plt.plot(history.history['loss'])\n",
    "plt.plot(history.history['val_loss'])\n",
    "plt.ylabel('model loss')\n",
    "plt.xlabel('epoch')\n",
    "plt.legend(['train', 'test'], loc='best')\n",
    "\n",
    "plt.show()\n"
   ]
  },
  {
   "cell_type": "markdown",
   "metadata": {},
   "source": [
    "Anche qui valgono le stesse considerazioni fatte in merito all'utilizzo del metodo Dropout nell'esercizio precedente.\n",
    "\n",
    "\n",
    "Mostriamo alcune cifre predette dalla rete:"
   ]
  },
  {
   "cell_type": "code",
   "execution_count": 14,
   "metadata": {},
   "outputs": [
    {
     "data": {
      "image/png": "[encoded data removed]",
      "text/plain": [
       "<Figure size 1080x1080 with 10 Axes>"
      ]
     },
     "metadata": {
      "needs_background": "light"
     },
     "output_type": "display_data"
    }
   ],
   "source": [
    "# digit prediction\n",
    "predictions = model_CNN.predict(X_test)\n",
    "\n",
    "plt.figure(figsize=(15, 15)) \n",
    "for i in range(10):    \n",
    "    ax = plt.subplot(2, 10, i + 1)    \n",
    "    plt.imshow(X_test[i, :, :, 0], cmap='gray')    \n",
    "    plt.title(\"Digit: {}\\nPredicted: {}\".format(np.argmax(Y_test[i]), np.argmax(predictions[i])))    \n",
    "    plt.axis('off') \n",
    "plt.show()"
   ]
  },
  {
   "cell_type": "markdown",
   "metadata": {},
   "source": [
    "Può essere interessante mostrare anche le cifre che la rete non è stata in grado di predirre:"
   ]
  },
  {
   "cell_type": "code",
   "execution_count": 15,
   "metadata": {},
   "outputs": [
    {
     "data": {
      "image/png": "[encoded data removed]",
      "text/plain": [
       "<Figure size 1080x1080 with 10 Axes>"
      ]
     },
     "metadata": {
      "needs_background": "light"
     },
     "output_type": "display_data"
    }
   ],
   "source": [
    "# not predicted digits\n",
    "\n",
    "plt.figure(figsize=(15, 15)) \n",
    "\n",
    "counts = 0\n",
    "for i in range(predictions.shape[0]):    \n",
    "    if(np.argmax(predictions[i]) != np.argmax(Y_test[i])):\n",
    "        counts += 1\n",
    "        ax = plt.subplot(2, 10, counts )\n",
    "        plt.imshow(X_test[i, :, :, 0], cmap='gray')    \n",
    "        plt.title(\"Digit: {}\\nPredicted: {}\".format(np.argmax(Y_test[i]), np.argmax(predictions[i])))    \n",
    "        plt.axis('off')\n",
    "    if(counts == 10):\n",
    "        break\n",
    "\n",
    "plt.show()"
   ]
  },
  {
   "cell_type": "markdown",
   "metadata": {},
   "source": [
    "## Ex 12.3 - Applicazione della CNN al riconoscimento di immagini create con 'gimp'"
   ]
  },
  {
   "cell_type": "markdown",
   "metadata": {},
   "source": [
    "In questo esercizio è stata usata la CNN creata ed allenata nell'esercizio precedente per classificare 10 immagini di cifre scritte a mano utilizzando l'applicazione 'gimp'."
   ]
  },
  {
   "cell_type": "code",
   "execution_count": 17,
   "metadata": {},
   "outputs": [
    {
     "data": {
      "image/png": "[encoded data removed]",
      "text/plain": [
       "<Figure size 1080x1080 with 10 Axes>"
      ]
     },
     "metadata": {
      "needs_background": "light"
     },
     "output_type": "display_data"
    }
   ],
   "source": [
    "from PIL import Image\n",
    "\n",
    "f=plt.figure(figsize=(15, 15)) \n",
    "\n",
    "true_digits = np.loadtxt(\"MyDigits/digits.dat\")\n",
    "dim = len(true_digits)\n",
    "\n",
    "for k in range(dim):\n",
    "    \n",
    "    digit_filename = \"MyDigits/digit\"+str(k+1)+\".png\"\n",
    "    digit_in = Image.open(digit_filename).convert('L')\n",
    "\n",
    "    ydim, xdim = digit_in.size\n",
    "    pix=digit_in.load();\n",
    "    data = np.zeros((xdim, ydim))\n",
    "    for j in range(ydim):\n",
    "        for i in range(xdim):\n",
    "            data[i,j]=pix[j,i]\n",
    "\n",
    "    data /= 255\n",
    "    \n",
    "    data = data.reshape(1,xdim, ydim, 1)\n",
    "    predicted_digit = model_CNN.predict(data)\n",
    "    \n",
    "    ax = f.add_subplot(2, dim, k+1 )\n",
    "    plt.imshow(data[0,:,:,0], cmap='gray')\n",
    "    plt.title(\"Digit: {}\\nPredicted: {}\".format(int(true_digits[k]), np.argmax(predicted_digit)))    \n",
    "    plt.axis('off')\n",
    "\n",
    "plt.show()"
   ]
  },
  {
   "cell_type": "markdown",
   "metadata": {},
   "source": [
    "La rete è stata in grado di predirre 8 cifre su 10."
   ]
  }
 ],
 "metadata": {
  "kernelspec": {
   "display_name": "Python 3",
   "language": "python",
   "name": "python3"
  },
  "language_info": {
   "codemirror_mode": {
    "name": "ipython",
    "version": 3
   },
   "file_extension": ".py",
   "mimetype": "text/x-python",
   "name": "python",
   "nbconvert_exporter": "python",
   "pygments_lexer": "ipython3",
   "version": "3.7.4"
  }
 },
 "nbformat": 4,
 "nbformat_minor": 2
}
