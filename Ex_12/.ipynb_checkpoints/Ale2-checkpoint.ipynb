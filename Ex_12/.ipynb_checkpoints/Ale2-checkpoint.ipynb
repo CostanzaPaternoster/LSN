{
 "cells": [
  {
   "cell_type": "markdown",
   "metadata": {},
   "source": [
    "## Creazione e test di una CNN per il riconoscimento di immagini\n",
    "\n",
    "Lo scopo di questo esercizio era creare una Convolutional Neural Network e valutarne la performance sul problema del riconoscimento delle immagini di cifre del database MNIST, comparandola alla DNN precedentemente usata.\n",
    "\n",
    "### La rete\n",
    "\n",
    "Abbiamo organizzato la rete secondo la struttura seguente:\n",
    "- input layer Conv2D: Kernel 5x5, Stride = 1 (Default), 10 filtri (uno per ogni possibile  output, ma questa scelta non è strettamente necessaria) e attivazione di tipo ReLu\n",
    "- MaxPool layer: Kernel 2x2, Stride = 1 e padding = valid (ovvero l'input viene ridotto)\n",
    "- un'altra coppia Conv2D + MaxPool con gli stessi parametri\n",
    "- dopo un Flattening dell'output, un layer Dense costituito da 160 neuroni con attivazione ReLu\n",
    "- un ultimo layer Dense costituito da 10 neuroni e attivazione di tipo SoftMax utile per la classificazione.\n",
    "\n",
    "Questa struttura è tipica nel mondo delle NN per la classificazioni di immagini (ma anche di file audio), poichè riesce a catturare \"simmetrie\" o meglio correlazioni spaziali (o temporali) all'interno delle stesse, performando meglio di altre architetture (e.g. Feed Forward NN). L'aspetto delle correlazioni è importante perchè una rete che operi in questo modo è sicuramente più vicina a un possibile \"schema di funzionamento\" del cervello (molto semplificato, ovviamente), che riconosce gli oggetti e i suoni in base sia ad aspetti globali che ad aspetti locali."
   ]
  },
  {
   "cell_type": "code",
   "execution_count": 15,
   "metadata": {},
   "outputs": [],
   "source": [
    "import tensorflow as tf\n",
    "from tensorflow import keras\n",
    "import os\n",
    "import pandas as pd\n",
    "\n",
    "import numpy as np\n",
    "import matplotlib.pyplot as plt\n",
    "from keras.models import Sequential\n",
    "from keras.layers import Dense, Dropout, MaxPooling2D, Conv2D, Flatten\n",
    "from keras.optimizers import SGD, Adam, RMSprop, Adagrad, Adadelta, Adam, Adamax, Nadam\n",
    "from keras.datasets import mnist\n",
    "from keras.callbacks import CSVLogger\n",
    "\n",
    "def create_CNN(args):\n",
    "    if args == 'new':\n",
    "        # instantiate model\n",
    "        model = Sequential()\n",
    "        # add first convolutional layer with 10 filters (dimensionality of output space)\n",
    "        # 28x28 --> 24x24 \n",
    "        model.add(Conv2D(10, kernel_size=(5, 5),\n",
    "                     activation='relu',\n",
    "                     input_shape=input_shape))\n",
    "        #\n",
    "        # ADD HERE SOME OTHER LAYERS AT YOUR WILL, FOR EXAMPLE SOME: Dropout, 2D pooling, 2D convolutional etc. ... \n",
    "        # remember to move towards a standard flat layer in the final part of your DNN,\n",
    "        # and that we need a soft-max layer with num_classes=10 possible outputs\n",
    "    \n",
    "        # Adding 1 MaxPool layer with no stride and valid padding\n",
    "        # 24x24 --> 12x12\n",
    "        model.add(MaxPooling2D((2, 2),None, 'valid'))\n",
    "        # Adding another convolutional layer with same parameters as before\n",
    "        # 12x12 --> 8x8\n",
    "        model.add(Conv2D(10, kernel_size=(5, 5),activation='relu'))\n",
    "        # Another MaxPool layer 8x8 --> 4x4\n",
    "        model.add(MaxPooling2D((2, 2),None, 'valid'))\n",
    "        # Flatten the shape 4x4x1 --> 16x1\n",
    "        model.add(Flatten())\n",
    "        # Fully connected layer with 160 neurons\n",
    "        model.add(Dense(160, activation = 'relu'))\n",
    "        # Adding some Dropout to prevent overfitting\n",
    "        model.add(Dropout(0.3))\n",
    "        # Final layer with 10 outputs and softmax classification\n",
    "        model.add(Dense(10, activation = 'softmax'))\n",
    "        \n",
    "        # Compile the model and you are ready to go!\n",
    "        model.compile(loss=keras.losses.categorical_crossentropy,\n",
    "                  optimizer='Adadelta',\n",
    "                  metrics=['accuracy'])\n",
    "        var = 1\n",
    "        \n",
    "    elif args == 'load':\n",
    "        model = tf.keras.models.load_model(filepath='Saved/model_CNN_Adadelta')\n",
    "        var = 0\n",
    "    return model, var"
   ]
  },
  {
   "cell_type": "code",
   "execution_count": 16,
   "metadata": {},
   "outputs": [],
   "source": [
    "# input image dimensions\n",
    "img_rows, img_cols = 28, 28 # number of pixels \n",
    "# output\n",
    "num_classes = 10 # 10 digits\n",
    "\n",
    "# the data, split between train and test sets\n",
    "(X_train, Y_train), (X_test, Y_test) = mnist.load_data()\n",
    "\n",
    "# Set right shape for input data\n",
    "X_train = X_train.reshape(X_train.shape[0],X_train.shape[1], X_train.shape[2], 1 )\n",
    "X_test = X_test.reshape(X_test.shape[0],X_test.shape[1], X_test.shape[2], 1 )\n",
    "\n",
    "# cast floats to single precesion\n",
    "X_train = X_train.astype('float32')\n",
    "X_test = X_test.astype('float32')\n",
    "\n",
    "# rescale data in interval [0,1]\n",
    "X_train /= 255\n",
    "X_test /= 255\n",
    "\n",
    "# Use to_categorical to classify target outputs\n",
    "Y_train = keras.utils.to_categorical(Y_train, num_classes)\n",
    "Y_test = keras.utils.to_categorical(Y_test, num_classes)\n",
    "input_shape = (img_rows, img_cols, 1)\n"
   ]
  },
  {
   "cell_type": "code",
   "execution_count": 17,
   "metadata": {},
   "outputs": [
    {
     "name": "stdout",
     "output_type": "stream",
     "text": [
      "Train on 60000 samples, validate on 10000 samples\n",
      "Epoch 1/5\n",
      "60000/60000 [==============================] - 27s 452us/step - loss: 0.2028 - acc: 0.9360 - val_loss: 0.0620 - val_acc: 0.9814\n",
      "Epoch 2/5\n",
      "60000/60000 [==============================] - 26s 440us/step - loss: 0.0828 - acc: 0.9750 - val_loss: 0.0432 - val_acc: 0.9855\n",
      "Epoch 3/5\n",
      "60000/60000 [==============================] - 26s 441us/step - loss: 0.0615 - acc: 0.9812 - val_loss: 0.0396 - val_acc: 0.9869\n",
      "Epoch 4/5\n",
      "60000/60000 [==============================] - 28s 469us/step - loss: 0.0508 - acc: 0.9843 - val_loss: 0.0361 - val_acc: 0.9883\n",
      "Epoch 5/5\n",
      "60000/60000 [==============================] - 27s 450us/step - loss: 0.0445 - acc: 0.9861 - val_loss: 0.0318 - val_acc: 0.9902\n",
      "10000/10000 [==============================] - 2s 219us/step\n",
      "\n",
      "Test loss: 0.031837709595129125\n",
      "Test accuracy: 0.9902\n"
     ]
    }
   ],
   "source": [
    "# Load the previously trained CNN \n",
    "# model_CNN, var = create_CNN('load')\n",
    "\n",
    "# or\n",
    "\n",
    "# Build and train a new CNN from scratch\n",
    "model_CNN, var =create_CNN('new')\n",
    "\n",
    "# Training\n",
    "if var:\n",
    "    # Parameters\n",
    "    batch_size = 32\n",
    "    epochs = 5\n",
    "\n",
    "    # Set the path to save a .log file with history of training\n",
    "    #csv_logger = CSVLogger('Saved/training_Adadelta.log')\n",
    "    history= model_CNN.fit(X_train, Y_train,\n",
    "          batch_size=batch_size,\n",
    "          epochs=epochs,\n",
    "          #callbacks = ['csv_logger']             \n",
    "          verbose=1,\n",
    "          validation_data=(X_test, Y_test))\n",
    "\n",
    "# Evaluate model\n",
    "score = model_CNN.evaluate(X_test, Y_test, verbose=1)\n",
    "\n",
    "# Print performance\n",
    "print()\n",
    "print('Test loss:', score[0])\n",
    "print('Test accuracy:', score[1])"
   ]
  },
  {
   "cell_type": "markdown",
   "metadata": {},
   "source": [
    "L'accuratezza raggiunta dalla rete è notevole! È decisamente superiore al massimo che la DNN era in grado di fare, nonostante abbia un numero di parametri minore di più di un ordine di grandezza, infatti"
   ]
  },
  {
   "cell_type": "code",
   "execution_count": null,
   "metadata": {},
   "outputs": [],
   "source": [
    "model_CNN.summary()"
   ]
  },
  {
   "cell_type": "code",
   "execution_count": 22,
   "metadata": {},
   "outputs": [],
   "source": [
    "# Save the model\n",
    "\n",
    "#save_model_path='Saved/model_CNN_Adadelta'\n",
    "#model_CNN.save(filepath=save_model_path, include_optimizer=True)"
   ]
  },
  {
   "cell_type": "markdown",
   "metadata": {},
   "source": [
    "### CNN Training history\n",
    "\n",
    "Mostriamo ora la storia del training della CNN."
   ]
  },
  {
   "cell_type": "code",
   "execution_count": 19,
   "metadata": {},
   "outputs": [
    {
     "data": {
      "image/png": "[encoded data removed]",
      "text/plain": [
       "<Figure size 432x288 with 1 Axes>"
      ]
     },
     "metadata": {
      "needs_background": "light"
     },
     "output_type": "display_data"
    },
    {
     "data": {
      "image/png": "[encoded data removed]",
      "text/plain": [
       "<Figure size 432x288 with 1 Axes>"
      ]
     },
     "metadata": {
      "needs_background": "light"
     },
     "output_type": "display_data"
    }
   ],
   "source": [
    "# summarize history for accuracy\n",
    "plt.plot(history.history['acc'])\n",
    "plt.plot(history.history['val_acc'])\n",
    "plt.ylabel('model accuracy')\n",
    "plt.xlabel('epoch')\n",
    "plt.legend(['train', 'test'], loc='best')\n",
    "plt.show()\n",
    "\n",
    "# summarize history for loss\n",
    "plt.plot(history.history['loss'])\n",
    "plt.plot(history.history['val_loss'])\n",
    "plt.ylabel('model loss')\n",
    "plt.xlabel('epoch')\n",
    "plt.legend(['train', 'test'], loc='best')\n",
    "plt.show()"
   ]
  },
  {
   "cell_type": "markdown",
   "metadata": {},
   "source": [
    "Anche qui come nella DNN si nota come la presenza del Dropout nella rete riduca le performance nella fase di training, mentre nella fase di validation, lavorando con il 100% dei neuroni, la rete riesca a ottenere risultati migliori.\n",
    "\n",
    "È utile vedere alcune cifre che la rete è riuscita a classificare..."
   ]
  },
  {
   "cell_type": "code",
   "execution_count": 20,
   "metadata": {},
   "outputs": [
    {
     "data": {
      "image/png": "[encoded data removed]",
      "text/plain": [
       "<Figure size 1080x1080 with 10 Axes>"
      ]
     },
     "metadata": {
      "needs_background": "light"
     },
     "output_type": "display_data"
    }
   ],
   "source": [
    "Y_pred = model_CNN.predict(X_test)\n",
    "plt.figure(figsize=(15, 15)) \n",
    "for i in range(10):    \n",
    "    ax = plt.subplot(2, 10, i + 1)    \n",
    "    plt.imshow(X_test[i, :, :, 0], cmap='gray')    \n",
    "    plt.title(\"Digit: {}\\nPredicted:  {}\".format(np.argmax(Y_test[i]), np.argmax(Y_pred[i])))    \n",
    "    plt.axis('off') \n",
    "plt.show()"
   ]
  },
  {
   "cell_type": "markdown",
   "metadata": {},
   "source": [
    "... ma anche e soprattutto le cifre che la rete $\\textit{non}$ è riuscita ad identificare,come le seguenti."
   ]
  },
  {
   "cell_type": "code",
   "execution_count": 21,
   "metadata": {},
   "outputs": [
    {
     "name": "stdout",
     "output_type": "stream",
     "text": [
      "La rete sbaglia in  98  casi su  10000 .\n",
      "\n",
      "Ecco alcuni esempi di classificazioni errate (in alcuni non si può certo biasimare la rete...)\n"
     ]
    },
    {
     "data": {
      "image/png": "[encoded data removed]",
      "text/plain": [
       "<Figure size 1080x1080 with 10 Axes>"
      ]
     },
     "metadata": {
      "needs_background": "light"
     },
     "output_type": "display_data"
    }
   ],
   "source": [
    "seed=0\n",
    "np.random.seed(seed)\n",
    "errors = []\n",
    "for i in range(Y_test.shape[0]):\n",
    "    if np.argmax(Y_test[i]) != np.argmax(Y_pred[i]):\n",
    "        errors.append(i)\n",
    "print(\"La rete sbaglia in \", len(errors), \" casi su \", Y_pred.shape[0], \".\")\n",
    "print(\"\\nEcco alcuni esempi di classificazioni errate (in alcuni non si può certo biasimare la rete...)\")\n",
    "count = 0\n",
    "plt.figure(figsize=(15, 15)) \n",
    "\n",
    "r = np.random.choice(errors, 10)\n",
    "for i in r: \n",
    "    ax = plt.subplot(2, 10, count + 1)    \n",
    "    plt.imshow(X_test[i, :, :, 0], cmap='gray')    \n",
    "    plt.title(\"Digit: {}\\nPredicted:  {}\".format(np.argmax(Y_test[i]), np.argmax(Y_pred[i])))    \n",
    "    plt.axis('off') \n",
    "    count +=1"
   ]
  },
  {
   "cell_type": "code",
   "execution_count": null,
   "metadata": {},
   "outputs": [],
   "source": []
  },
  {
   "cell_type": "code",
   "execution_count": null,
   "metadata": {},
   "outputs": [],
   "source": []
  }
 ],
 "metadata": {
  "kernelspec": {
   "display_name": "Python 3",
   "language": "python",
   "name": "python3"
  },
  "language_info": {
   "codemirror_mode": {
    "name": "ipython",
    "version": 3
   },
   "file_extension": ".py",
   "mimetype": "text/x-python",
   "name": "python",
   "nbconvert_exporter": "python",
   "pygments_lexer": "ipython3",
   "version": "3.7.4"
  }
 },
 "nbformat": 4,
 "nbformat_minor": 2
}
