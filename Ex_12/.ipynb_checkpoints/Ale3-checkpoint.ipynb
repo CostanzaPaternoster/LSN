{
 "cells": [
  {
   "cell_type": "markdown",
   "metadata": {},
   "source": [
    "## Riconoscimento cifre scritte con GIMP tramite CNN\n",
    "\n",
    "In quest'ultimo esercizio abbiamo utilizzato la CNN creata e allenata precedentemente ($\\textit{Exercise 12.2}$) per identificare cifre scritte dall'utente (con il GNU Image Manipulation Program). "
   ]
  },
  {
   "cell_type": "code",
   "execution_count": 1,
   "metadata": {},
   "outputs": [
    {
     "name": "stderr",
     "output_type": "stream",
     "text": [
      "Using TensorFlow backend.\n"
     ]
    }
   ],
   "source": [
    "import tensorflow as tf\n",
    "from tensorflow import keras\n",
    "import os\n",
    "\n",
    "import numpy as np\n",
    "import matplotlib.pyplot as plt\n",
    "from keras.models import Sequential\n",
    "from keras.layers import Dense, Dropout, MaxPooling2D, Conv2D, Flatten\n",
    "from keras.optimizers import SGD, Adam, RMSprop, Adagrad, Adadelta, Adam, Adamax, Nadam\n",
    "from keras.datasets import mnist\n",
    "from PIL import Image\n",
    "import os"
   ]
  },
  {
   "cell_type": "markdown",
   "metadata": {},
   "source": [
    "### Dettagli sulla rete\n",
    "\n",
    "La rete è stata precedentemente allenata come sempre su dati del database MNIST, l'ottimizzazione è stata eseguita tramite l'algoritmo di gradient descent $\\textit{Adadelta}$, ed è stata valutata a partire dall'accuracy e dalla categorical cross-entropy. Il risultato di questo allenamento è testimoniato dalle seguenti quantità."
   ]
  },
  {
   "cell_type": "code",
   "execution_count": 2,
   "metadata": {},
   "outputs": [
    {
     "name": "stdout",
     "output_type": "stream",
     "text": [
      "WARNING:tensorflow:From /home/alessandro/.local/lib/python3.6/site-packages/tensorflow/python/ops/resource_variable_ops.py:435: colocate_with (from tensorflow.python.framework.ops) is deprecated and will be removed in a future version.\n",
      "Instructions for updating:\n",
      "Colocations handled automatically by placer.\n",
      "WARNING:tensorflow:From /home/alessandro/.local/lib/python3.6/site-packages/tensorflow/python/keras/layers/core.py:143: calling dropout (from tensorflow.python.ops.nn_ops) with keep_prob is deprecated and will be removed in a future version.\n",
      "Instructions for updating:\n",
      "Please use `rate` instead of `keep_prob`. Rate should be set to `rate = 1 - keep_prob`.\n",
      "WARNING:tensorflow:From /home/alessandro/.local/lib/python3.6/site-packages/tensorflow/python/ops/math_ops.py:3066: to_int32 (from tensorflow.python.ops.math_ops) is deprecated and will be removed in a future version.\n",
      "Instructions for updating:\n",
      "Use tf.cast instead.\n"
     ]
    }
   ],
   "source": [
    "model_CNN = tf.keras.models.load_model(filepath='Saved/model_CNN_Adadelta')\n",
    "#model_CNN.summary()"
   ]
  },
  {
   "cell_type": "code",
   "execution_count": 3,
   "metadata": {},
   "outputs": [
    {
     "name": "stdout",
     "output_type": "stream",
     "text": [
      "\n",
      "MODEL PERFORMANCE\n",
      "\n",
      "Test loss: 0.031837709595129125\n",
      "Test accuracy: 0.9902\n"
     ]
    }
   ],
   "source": [
    "# Loading MNIST database\n",
    "# Input image dimensions\n",
    "img_rows, img_cols = 28, 28 # number of pixels \n",
    "# Output\n",
    "num_classes = 10 # 10 digits\n",
    "\n",
    "# Data, split between train and test sets\n",
    "(X_train, Y_train), (X_test, Y_test) = mnist.load_data()\n",
    "\n",
    "# Set right shape for input data\n",
    "X_train = X_train.reshape(X_train.shape[0],X_train.shape[1], X_train.shape[2], 1 )\n",
    "X_test = X_test.reshape(X_test.shape[0],X_test.shape[1], X_test.shape[2], 1 )\n",
    "\n",
    "# Cast floats to single precesion\n",
    "X_train = X_train.astype('float32')\n",
    "X_test = X_test.astype('float32')\n",
    "\n",
    "# Rescale data in interval [0,1]\n",
    "X_train /= 255\n",
    "X_test /= 255\n",
    "\n",
    "# Use to_categorical to classify target outputs\n",
    "Y_train = keras.utils.to_categorical(Y_train, num_classes)\n",
    "Y_test = keras.utils.to_categorical(Y_test, num_classes)\n",
    "input_shape = (img_rows, img_cols, 1)\n",
    "\n",
    "# Evaluate model\n",
    "score_test = model_CNN.evaluate(X_test, Y_test, verbose=0)\n",
    "\n",
    "# Print performance\n",
    "print('\\nMODEL PERFORMANCE')\n",
    "print('\\nTest loss:', score_test[0])\n",
    "print('Test accuracy:', score_test[1])"
   ]
  },
  {
   "cell_type": "markdown",
   "metadata": {},
   "source": [
    "Osserviamo quindi come l'accuratezza della rete sia intorno al 99%! Questo risultato, molto soddisfacente, è in linea con le performance attuali di reti con questo tipo di architettura [$\\textit{\"An interactive Node-Link visualization of CNN\"}$, Adam W. Harley].\n",
    "\n",
    "Siamo quindi pronti a testare la rete sulle immagini da noi create."
   ]
  },
  {
   "cell_type": "markdown",
   "metadata": {},
   "source": [
    "### Classificazione delle cifre disegnate dall'utente"
   ]
  },
  {
   "cell_type": "code",
   "execution_count": 25,
   "metadata": {},
   "outputs": [
    {
     "name": "stdout",
     "output_type": "stream",
     "text": [
      "Le cifre 'intese' sono :  [7. 9. 3. 5. 0. 8. 1.]\n",
      "Le cifre predette sono :  [7. 3. 3. 5. 0. 8. 1.]\n"
     ]
    },
    {
     "data": {
      "image/png": "[encoded data removed]",
      "text/plain": [
       "<Figure size 1080x1080 with 7 Axes>"
      ]
     },
     "metadata": {
      "needs_background": "light"
     },
     "output_type": "display_data"
    }
   ],
   "source": [
    "f = plt.figure(figsize=(15,15))\n",
    "\n",
    "imgs = 7  # Total number of digits to indentify\n",
    "intended = np.loadtxt(\"My_digits/targets.txt\")  # Loading targets\n",
    "identified = np.zeros(imgs)   # Vector of predictions\n",
    "\n",
    "for i in range(1, imgs+1):\n",
    "    # Load image\n",
    "    digit_filename = \"My_digits/dig_\"+str(i)+\".png\"\n",
    "    digit_in = Image.open(digit_filename).convert('L')\n",
    "    \n",
    "    # Initializing object with grey-scale pixel value \n",
    "    ydim, xdim = digit_in.size\n",
    "    pix=digit_in.load()\n",
    "    data = np.zeros((xdim, ydim))\n",
    "    for j in range(ydim):\n",
    "        for k in range(xdim):\n",
    "            data[k,j]=pix[j,k]\n",
    "    \n",
    "    data /= 255\n",
    "    # Plotting the picture\n",
    "    f.add_subplot(2, 10, i + 1)    \n",
    "    plt.imshow(data, cmap='gray')\n",
    "    plt.title(intended[i-1])\n",
    "    plt.axis('off')\n",
    "    \n",
    "    # Reshaping data to match CNN input requirings\n",
    "    data = data.reshape(1, ydim, xdim, 1)\n",
    "    # Predict\n",
    "    predicted = model_CNN.predict(data)\n",
    "    # Convert from categorical to base-10\n",
    "    identified[i-1] = np.argmax(predicted)\n",
    "\n",
    "print(\"Le cifre target sono : \", intended)\n",
    "print(\"Le cifre predette sono : \", identified)"
   ]
  },
  {
   "cell_type": "markdown",
   "metadata": {},
   "source": [
    "Dopo alcuni tentativi, si sono riportate qui 7 immagini tra quelle più significative. In particolare notiamo che:\n",
    "- la rete ha difficoltà nel riconoscere i 9 e i 3\n",
    "- la rete riesce spesso a identificare le immagini anche se \"ruotate\" rispetto alla posizione tipica (vedi ultima cifra). Questo aspetto è interessante in quanto mostra come la rete"
   ]
  }
 ],
 "metadata": {
  "kernelspec": {
   "display_name": "Python 3",
   "language": "python",
   "name": "python3"
  },
  "language_info": {
   "codemirror_mode": {
    "name": "ipython",
    "version": 3
   },
   "file_extension": ".py",
   "mimetype": "text/x-python",
   "name": "python",
   "nbconvert_exporter": "python",
   "pygments_lexer": "ipython3",
   "version": "3.6.8"
  }
 },
 "nbformat": 4,
 "nbformat_minor": 2
}
